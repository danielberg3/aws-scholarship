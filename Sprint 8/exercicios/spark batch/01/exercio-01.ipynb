{
 "cells": [
  {
   "cell_type": "markdown",
   "metadata": {},
   "source": [
    "# Exercício 1"
   ]
  },
  {
   "cell_type": "markdown",
   "metadata": {},
   "source": [
    "* Criar lista com 250 números aleatórios"
   ]
  },
  {
   "cell_type": "code",
   "execution_count": 9,
   "metadata": {},
   "outputs": [
    {
     "name": "stdout",
     "output_type": "stream",
     "text": [
      "[57, 174, 29, 61, 28, 20, 180, 2, 201, 98, 220, 208, 233, 126, 41, 245, 237, 16, 205, 116, 168, 149, 92, 37, 199, 225, 232, 54, 4, 67, 194, 237, 200, 132, 112, 189, 11, 27, 94, 49, 141, 137, 231, 99, 239, 182, 244, 68, 186, 72, 19, 16, 127, 180, 197, 41, 75, 130, 115, 183, 16, 166, 43, 88, 71, 48, 66, 197, 21, 185, 59, 1, 135, 55, 167, 232, 202, 246, 228, 187, 121, 55, 241, 42, 228, 157, 84, 18, 119, 121, 65, 97, 160, 11, 179, 8, 41, 182, 166, 219, 209, 122, 36, 205, 77, 162, 86, 221, 79, 58, 118, 114, 78, 8, 117, 209, 19, 175, 197, 209, 151, 19, 2, 126, 43, 68, 194, 79, 141, 117, 146, 197, 65, 14, 239, 67, 218, 93, 133, 237, 108, 236, 4, 228, 17, 40, 1, 1, 225, 227, 193, 120, 154, 25, 31, 122, 140, 161, 38, 5, 123, 200, 86, 230, 29, 210, 56, 2, 239, 2, 114, 142, 126, 182, 246, 83, 60, 247, 173, 97, 91, 147, 6, 190, 57, 248, 150, 16, 139, 101, 221, 153, 85, 64, 12, 221, 199, 149, 61, 160, 199, 60, 125, 213, 249, 222, 199, 152, 224, 240, 122, 184, 237, 97, 64, 219, 243, 137, 164, 142, 37, 51, 88, 144, 142, 52, 146, 18, 149, 85, 223, 26, 38, 1, 12, 142, 131, 171, 126, 86, 246, 207, 44, 195, 130, 61, 216, 237, 121, 114]\n"
     ]
    }
   ],
   "source": [
    "import random\n",
    "\n",
    "numeros = []\n",
    "\n",
    "for _ in range(250):\n",
    "    randomNumber = random.randint(1, 250)\n",
    "    numeros.append(randomNumber)\n",
    "\n",
    "numeros.reverse()\n",
    "print(numeros)"
   ]
  },
  {
   "cell_type": "markdown",
   "metadata": {},
   "source": [
    "* Criar CSV com 20 nomes de animais ordenados em ordem crescente"
   ]
  },
  {
   "cell_type": "code",
   "execution_count": 12,
   "metadata": {},
   "outputs": [
    {
     "name": "stdout",
     "output_type": "stream",
     "text": [
      "Baleia\n",
      "Canguru\n",
      "Cobra\n",
      "Elefante\n",
      "Girafa\n",
      "Golfinho\n",
      "Hipopótamo\n",
      "Jacaré\n",
      "Leão\n",
      "Lobo\n",
      "Panda\n",
      "Papagaio\n",
      "Pinguim\n",
      "Raposa\n",
      "Rinoceronte\n",
      "Tigre\n",
      "Tubarão\n",
      "Urso\n",
      "Zebra\n",
      "Águia\n"
     ]
    }
   ],
   "source": [
    "import csv\n",
    "\n",
    "animais = [\"Leão\",\"Tigre\",\"Elefante\",\"Girafa\",\"Zebra\",\"Canguru\",\"Panda\",\"Rinoceronte\",\"Hipopótamo\",\"Cobra\",\"Jacaré\",\"Águia\",\"Papagaio\",\"Golfinho\",\"Baleia\",\"Tubarão\",\"Pinguim\",\"Urso\",\"Lobo\",\"Raposa\"]\n",
    "\n",
    "animais.sort()\n",
    "\n",
    "for animal in animais:\n",
    "    print(animal)\n",
    "\n",
    "with open('animais.csv', mode='w', newline='') as arquivo:\n",
    "    arquivo = csv.writer(arquivo)\n",
    "    \n",
    "    for animal in animais:\n",
    "        arquivo.writerow([animal])\n",
    "\n",
    "\n",
    "print('Arquivo animais.csv criado com sucesso!')"
   ]
  },
  {
   "cell_type": "markdown",
   "metadata": {},
   "source": [
    "* Criar CSV com 10000000 de nomes aleatórios"
   ]
  },
  {
   "cell_type": "code",
   "execution_count": 3,
   "metadata": {},
   "outputs": [
    {
     "name": "stdout",
     "output_type": "stream",
     "text": [
      "Gerando 10000000 nomes aleatórios\n",
      "Arquivo nomes.txt criado com sucesso!\n"
     ]
    }
   ],
   "source": [
    "import random\n",
    "import names\n",
    "\n",
    "random.seed(40)\n",
    "qtd_nomes_unicos = 3000\n",
    "qtd_nomes_aleatorios = 10000000\n",
    "\n",
    "aux = []\n",
    "\n",
    "for i in range(0, qtd_nomes_unicos):\n",
    "    aux.append(names.get_full_name())\n",
    "\n",
    "print('Gerando {} nomes aleatórios' .format(qtd_nomes_aleatorios))\n",
    "\n",
    "dados = []\n",
    "\n",
    "for i in range(0, qtd_nomes_aleatorios):\n",
    "    dados.append(random.choice(aux))\n",
    "    \n",
    "\n",
    "with open('nomes_aleatorios.txt', mode='w', newline='') as arquivo:\n",
    "    for nome in dados:\n",
    "        arquivo.write(nome + '\\n')\n",
    "\n",
    "print('Arquivo nomes_aleatorios.txt criado com sucesso!')"
   ]
  }
 ],
 "metadata": {
  "kernelspec": {
   "display_name": "Python 3",
   "language": "python",
   "name": "python3"
  },
  "language_info": {
   "codemirror_mode": {
    "name": "ipython",
    "version": 3
   },
   "file_extension": ".py",
   "mimetype": "text/x-python",
   "name": "python",
   "nbconvert_exporter": "python",
   "pygments_lexer": "ipython3",
   "version": "3.10.12"
  }
 },
 "nbformat": 4,
 "nbformat_minor": 2
}
