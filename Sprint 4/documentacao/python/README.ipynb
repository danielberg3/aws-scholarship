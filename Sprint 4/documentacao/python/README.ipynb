{
 "cells": [
  {
   "cell_type": "markdown",
   "metadata": {},
   "source": [
    "# Python"
   ]
  },
  {
   "cell_type": "markdown",
   "metadata": {},
   "source": [
    "## Paradigma funcional\n",
    "\n",
    "* Funções de primeira classes\n",
    "\n",
    "Permite que funções sejam tratadas como dados, de modo que possam ser armazenadas em variáveis."
   ]
  },
  {
   "cell_type": "code",
   "execution_count": 2,
   "metadata": {},
   "outputs": [
    {
     "name": "stdout",
     "output_type": "stream",
     "text": [
      "10\n"
     ]
    }
   ],
   "source": [
    "def dobro(x):\n",
    "    print(x*2)\n",
    "\n",
    "d = dobro\n",
    "\n",
    "d(5)"
   ]
  },
  {
   "cell_type": "markdown",
   "metadata": {},
   "source": [
    "### Funções de alta ordem\n",
    "\n",
    "Permite que funções sejam parâmetros ou retornos de outras."
   ]
  },
  {
   "cell_type": "code",
   "execution_count": 4,
   "metadata": {},
   "outputs": [
    {
     "name": "stdout",
     "output_type": "stream",
     "text": [
      "10\n"
     ]
    }
   ],
   "source": [
    "def dobro(x):\n",
    "    print(x*2)\n",
    "\n",
    "def recebe_funcao(funcao, x):\n",
    "    funcao(x)\n",
    "\n",
    "\n",
    "recebe_funcao(dobro, 5)"
   ]
  },
  {
   "cell_type": "markdown",
   "metadata": {},
   "source": [
    "### Closure\n",
    "\n",
    "    Funções definidas dentro de blocos tem conhecimento do contexto no qual se encontram, podendo utilizar atributos do bloco em suas operações."
   ]
  },
  {
   "cell_type": "code",
   "execution_count": 5,
   "metadata": {},
   "outputs": [
    {
     "name": "stdout",
     "output_type": "stream",
     "text": [
      "O dobro de 7 é: 14\n"
     ]
    }
   ],
   "source": [
    "def multiplicar(x):\n",
    "    def calcular(y):\n",
    "        return x * y\n",
    "    return calcular\n",
    "\n",
    "dobro = multiplicar(2)\n",
    "print(f'O dobro de 7 é: {dobro(7)}')"
   ]
  },
  {
   "cell_type": "markdown",
   "metadata": {},
   "source": [
    "### Função Map\n",
    "\n",
    "As funções map são utilizadas para percorrer listas, tuplas e dicionários e podem usar funções lambdas dentro de si para interagir com os elementos da lista. "
   ]
  },
  {
   "cell_type": "code",
   "execution_count": 6,
   "metadata": {},
   "outputs": [
    {
     "name": "stdout",
     "output_type": "stream",
     "text": [
      "Valores das compras: (20, 60, 70)\n",
      "Valor total das compras: 150\n"
     ]
    }
   ],
   "source": [
    "compras = (\n",
    "    {'quantidade': 2, 'preco': 10},\n",
    "    {'quantidade': 3, 'preco': 20},\n",
    "    {'quantidade': 5, 'preco': 14},\n",
    ")\n",
    "\n",
    "totais = tuple(\n",
    "    map(\n",
    "        lambda compra: compra['quantidade'] * compra['preco'],\n",
    "          compras\n",
    "        )\n",
    ")\n",
    "\n",
    "print(f'Valores das compras: {totais}')\n",
    "print(f'Valor total das compras: {sum(totais)}')\n",
    "\n"
   ]
  },
  {
   "cell_type": "markdown",
   "metadata": {},
   "source": [
    "### Filter\n",
    "\n",
    "Permite que apenas os elementos de listas, tuplas e dicionários que atenderem a condição sejam retornados."
   ]
  },
  {
   "cell_type": "code",
   "execution_count": 3,
   "metadata": {},
   "outputs": [
    {
     "name": "stdout",
     "output_type": "stream",
     "text": [
      "[{'nome': 'Lucas', 'idade': 16}, {'nome': 'João', 'idade': 14}]\n"
     ]
    }
   ],
   "source": [
    "pessoas = (\n",
    "    {'nome': 'Daniel', 'idade': 19},\n",
    "    {'nome': 'Lucas', 'idade': 16},\n",
    "    {'nome': 'João', 'idade': 14},\n",
    ")\n",
    "\n",
    "menores = filter(lambda p: p['idade'] <18, pessoas)\n",
    "print(list(menores))"
   ]
  },
  {
   "cell_type": "markdown",
   "metadata": {},
   "source": [
    "### Reduce\n",
    "\n",
    "Permite uma maior praticadade, já que seu retorno é um acumulador que pode ser de qualquer tipo de dado."
   ]
  },
  {
   "cell_type": "code",
   "execution_count": 5,
   "metadata": {},
   "outputs": [
    {
     "name": "stdout",
     "output_type": "stream",
     "text": [
      "49\n"
     ]
    }
   ],
   "source": [
    "from functools import reduce\n",
    "\n",
    "pessoas = (\n",
    "    {'nome': 'Daniel', 'idade': 19},\n",
    "    {'nome': 'Lucas', 'idade': 16},\n",
    "    {'nome': 'João', 'idade': 14},\n",
    ")\n",
    "\n",
    "soma_idades = reduce(lambda idades, p: idades + p['idade'], pessoas, 0)\n",
    "print(soma_idades)"
   ]
  },
  {
   "cell_type": "markdown",
   "metadata": {},
   "source": [
    "### Generator\n",
    "\n",
    "Permite criar um objeto que tem acesso a memória do próximo elemento nele contido"
   ]
  },
  {
   "cell_type": "code",
   "execution_count": 4,
   "metadata": {},
   "outputs": [
    {
     "name": "stdout",
     "output_type": "stream",
     "text": [
      "vermelho\n",
      "laranja\n",
      "amarelo\n",
      "verde\n",
      "azul\n"
     ]
    }
   ],
   "source": [
    "def cores_arco_iris():\n",
    "    yield 'vermelho'\n",
    "    yield 'laranja'\n",
    "    yield 'amarelo'\n",
    "    yield 'verde'\n",
    "    yield 'azul'\n",
    "\n",
    "generator = cores_arco_iris()\n",
    "\n",
    "for i in generator:\n",
    "    print(i)"
   ]
  },
  {
   "cell_type": "code",
   "execution_count": null,
   "metadata": {},
   "outputs": [],
   "source": []
  }
 ],
 "metadata": {
  "kernelspec": {
   "display_name": "base",
   "language": "python",
   "name": "python3"
  },
  "language_info": {
   "codemirror_mode": {
    "name": "ipython",
    "version": 3
   },
   "file_extension": ".py",
   "mimetype": "text/x-python",
   "name": "python",
   "nbconvert_exporter": "python",
   "pygments_lexer": "ipython3",
   "version": "3.11.7"
  }
 },
 "nbformat": 4,
 "nbformat_minor": 2
}
