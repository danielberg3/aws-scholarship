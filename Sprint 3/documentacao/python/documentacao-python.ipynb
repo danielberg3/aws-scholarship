{
 "cells": [
  {
   "cell_type": "markdown",
   "id": "7ddd77b1-58ef-4920-8698-d336bdf6f596",
   "metadata": {},
   "source": [
    "## Tipos Básicos"
   ]
  },
  {
   "cell_type": "code",
   "execution_count": 6,
   "id": "8cd16b92-eb2d-4551-9686-54cefb44da3b",
   "metadata": {},
   "outputs": [
    {
     "name": "stdout",
     "output_type": "stream",
     "text": [
      "Hello World\n",
      "True\n",
      "False\n",
      "2.1\n",
      "[1, 2, 3]\n",
      "{'nome': 'Daniel', 'idade': 19}\n",
      "None\n"
     ]
    }
   ],
   "source": [
    "# String\n",
    "\n",
    "print('Hello World')\n",
    "\n",
    "# Boolean\n",
    "\n",
    "print(True)\n",
    "print(False)\n",
    "\n",
    "# Float\n",
    "\n",
    "print (1 + 1.1)\n",
    "\n",
    "# Lista\n",
    "\n",
    "lista = [1,2,3]\n",
    "print(lista)\n",
    "\n",
    "# Dicionário\n",
    "\n",
    "dicionario = {\"nome\": \"Daniel\", \"idade\": 19}\n",
    "print(dicionario)\n",
    "\n",
    "# Null\n",
    "\n",
    "print(None)"
   ]
  },
  {
   "cell_type": "markdown",
   "id": "31dc1b84-ce34-429d-9629-611cc8fc1c5f",
   "metadata": {},
   "source": [
    "## Variáveis\n",
    "\n",
    "Python é uma linguagem dinamicamente tipada, ou seja, suas variáveis podem assumir diferentes valores ao longo do código."
   ]
  },
  {
   "cell_type": "code",
   "execution_count": 7,
   "id": "37b8b0a0-c73c-478e-b034-05f80d43fd21",
   "metadata": {},
   "outputs": [
    {
     "name": "stdout",
     "output_type": "stream",
     "text": [
      "13\n",
      "Texto de teste\n"
     ]
    }
   ],
   "source": [
    "a = 13\n",
    "print(a)\n",
    "\n",
    "a = 'Texto de teste'\n",
    "print(a)"
   ]
  },
  {
   "cell_type": "markdown",
   "id": "804e9533-2265-40f0-b318-c357e6764d66",
   "metadata": {},
   "source": [
    "## Operadores Aritméticos"
   ]
  },
  {
   "cell_type": "code",
   "execution_count": 13,
   "id": "58ce29c9-6922-48db-86ee-2d01951cd0e9",
   "metadata": {},
   "outputs": [
    {
     "name": "stdout",
     "output_type": "stream",
     "text": [
      "1.0\n",
      "2.0\n",
      "3\n",
      "4\n",
      "5\n",
      "6\n",
      "6.999999999658219\n"
     ]
    }
   ],
   "source": [
    "# Soma\n",
    "\n",
    "print(0.5 + 0.5)\n",
    "\n",
    "# Divisão\n",
    "\n",
    "print(6 / 3)\n",
    "\n",
    "# Subtração\n",
    "\n",
    "print(4 - 1)\n",
    "\n",
    "# Multiplicação\n",
    "\n",
    "print(2 * 2)\n",
    "\n",
    "# Parte inteira da divisão\n",
    "\n",
    "print(11 // 2)\n",
    "\n",
    "# Módulo\n",
    "\n",
    "print(13 % 7)\n",
    "\n",
    "# Exponenciação\n",
    "\n",
    "print(2.645751311 ** 2)"
   ]
  },
  {
   "cell_type": "markdown",
   "id": "f906ce76-8acf-4a9c-97a7-67560e9bc31a",
   "metadata": {},
   "source": [
    "## Operadores relacionais"
   ]
  },
  {
   "cell_type": "code",
   "execution_count": 2,
   "id": "08d9316f-a1c0-46a8-8d96-290605917344",
   "metadata": {},
   "outputs": [
    {
     "name": "stdout",
     "output_type": "stream",
     "text": [
      "True\n",
      "False\n",
      "True\n",
      "False\n",
      "True\n",
      "False\n"
     ]
    }
   ],
   "source": [
    "# Maior\n",
    "\n",
    "print(3 > 2)\n",
    "\n",
    "# Maior igual\n",
    "\n",
    "print(2 >= 3)\n",
    "\n",
    "# Menor\n",
    "\n",
    "print( 1 < 3)\n",
    "\n",
    "# Menor igual\n",
    "\n",
    "print(3 <= 1)\n",
    "\n",
    "# Diferente\n",
    "\n",
    "print(3 != 2)\n",
    "\n",
    "# Igual\n",
    "\n",
    "print(3 == 2)"
   ]
  },
  {
   "cell_type": "markdown",
   "id": "03b1e788-7099-47c5-895e-c47ba49100d1",
   "metadata": {},
   "source": [
    "## Operadores Lógicos"
   ]
  },
  {
   "cell_type": "code",
   "execution_count": 7,
   "id": "a9cf5a67-e774-4554-b52d-8f5f7f8f983d",
   "metadata": {},
   "outputs": [
    {
     "name": "stdout",
     "output_type": "stream",
     "text": [
      "False\n",
      "True\n",
      "True\n"
     ]
    }
   ],
   "source": [
    "# AND\n",
    "\n",
    "print(2 > 1 and 2 > 3)\n",
    "\n",
    "#  OR\n",
    "\n",
    "print(2 > 1 or 2 > 3)\n",
    "\n",
    "# XOR\n",
    "\n",
    "print((2 > 1) != (2 > 3))"
   ]
  },
  {
   "cell_type": "markdown",
   "id": "eadad130-34ca-41b2-ae5d-d4711069d683",
   "metadata": {},
   "source": [
    "## Operadores ternários"
   ]
  },
  {
   "cell_type": "code",
   "execution_count": 4,
   "id": "35dbe465-04b4-44d6-a368-fc8e07c3957e",
   "metadata": {},
   "outputs": [
    {
     "name": "stdout",
     "output_type": "stream",
     "text": [
      "Hoje estou com as roupas secas.\n",
      "Hoje estou com as roupas secas.\n"
     ]
    }
   ],
   "source": [
    "esta_chovendo = False\n",
    "print(\"Hoje estou com as roupas \" + (\"secas.\",\"molhadas.\")[esta_chovendo])\n",
    "print(\"Hoje estou com as roupas \" + (\"molhadas.\" if esta_chovendo else \"secas.\"))"
   ]
  },
  {
   "cell_type": "markdown",
   "id": "58733edb-08e7-4ab4-a559-c09ae95a5f7b",
   "metadata": {},
   "source": [
    "## Mais operadores"
   ]
  },
  {
   "cell_type": "code",
   "execution_count": 6,
   "id": "e15e0787-d056-4027-a6c2-e6a7dcc25960",
   "metadata": {},
   "outputs": [
    {
     "name": "stdout",
     "output_type": "stream",
     "text": [
      "True\n",
      "False\n",
      "True\n",
      "False\n",
      "True\n"
     ]
    }
   ],
   "source": [
    "# Operador de membro\n",
    "\n",
    "lista = [1,2,3, 'ana', 'clara']\n",
    "\n",
    "print('ana' in lista)\n",
    "print(3 not in lista)\n",
    "\n",
    "# operador de identidade\n",
    "\n",
    "lista_a = [1,2,3,4,5]\n",
    "lista_b = lista_a\n",
    "lista_c = [1,2,3,4,5]\n",
    "\n",
    "print(lista_a is lista_b)\n",
    "\n",
    "# O retorno será false, pois mesmo que tenham os mesmos valores eles não apontam para o mesmo array.\n",
    "print(lista_a is lista_c)\n",
    "\n",
    "print(lista_a is not lista_c)\n"
   ]
  },
  {
   "cell_type": "markdown",
   "id": "e0874ea3-7031-4102-a3ab-bf8f3d1a2f16",
   "metadata": {},
   "source": [
    "## Builtins"
   ]
  },
  {
   "cell_type": "code",
   "execution_count": 8,
   "id": "579804f4-8a33-452c-966b-654bc9bb0710",
   "metadata": {},
   "outputs": [
    {
     "data": {
      "text/plain": [
       "['ArithmeticError',\n",
       " 'AssertionError',\n",
       " 'AttributeError',\n",
       " 'BaseException',\n",
       " 'BaseExceptionGroup',\n",
       " 'BlockingIOError',\n",
       " 'BrokenPipeError',\n",
       " 'BufferError',\n",
       " 'BytesWarning',\n",
       " 'ChildProcessError',\n",
       " 'ConnectionAbortedError',\n",
       " 'ConnectionError',\n",
       " 'ConnectionRefusedError',\n",
       " 'ConnectionResetError',\n",
       " 'DeprecationWarning',\n",
       " 'EOFError',\n",
       " 'Ellipsis',\n",
       " 'EncodingWarning',\n",
       " 'EnvironmentError',\n",
       " 'Exception',\n",
       " 'ExceptionGroup',\n",
       " 'False',\n",
       " 'FileExistsError',\n",
       " 'FileNotFoundError',\n",
       " 'FloatingPointError',\n",
       " 'FutureWarning',\n",
       " 'GeneratorExit',\n",
       " 'IOError',\n",
       " 'ImportError',\n",
       " 'ImportWarning',\n",
       " 'IndentationError',\n",
       " 'IndexError',\n",
       " 'InterruptedError',\n",
       " 'IsADirectoryError',\n",
       " 'KeyError',\n",
       " 'KeyboardInterrupt',\n",
       " 'LookupError',\n",
       " 'MemoryError',\n",
       " 'ModuleNotFoundError',\n",
       " 'NameError',\n",
       " 'None',\n",
       " 'NotADirectoryError',\n",
       " 'NotImplemented',\n",
       " 'NotImplementedError',\n",
       " 'OSError',\n",
       " 'OverflowError',\n",
       " 'PendingDeprecationWarning',\n",
       " 'PermissionError',\n",
       " 'ProcessLookupError',\n",
       " 'RecursionError',\n",
       " 'ReferenceError',\n",
       " 'ResourceWarning',\n",
       " 'RuntimeError',\n",
       " 'RuntimeWarning',\n",
       " 'StopAsyncIteration',\n",
       " 'StopIteration',\n",
       " 'SyntaxError',\n",
       " 'SyntaxWarning',\n",
       " 'SystemError',\n",
       " 'SystemExit',\n",
       " 'TabError',\n",
       " 'TimeoutError',\n",
       " 'True',\n",
       " 'TypeError',\n",
       " 'UnboundLocalError',\n",
       " 'UnicodeDecodeError',\n",
       " 'UnicodeEncodeError',\n",
       " 'UnicodeError',\n",
       " 'UnicodeTranslateError',\n",
       " 'UnicodeWarning',\n",
       " 'UserWarning',\n",
       " 'ValueError',\n",
       " 'Warning',\n",
       " 'ZeroDivisionError',\n",
       " '__IPYTHON__',\n",
       " '__build_class__',\n",
       " '__debug__',\n",
       " '__doc__',\n",
       " '__import__',\n",
       " '__loader__',\n",
       " '__name__',\n",
       " '__package__',\n",
       " '__spec__',\n",
       " 'abs',\n",
       " 'aiter',\n",
       " 'all',\n",
       " 'anext',\n",
       " 'any',\n",
       " 'ascii',\n",
       " 'bin',\n",
       " 'bool',\n",
       " 'breakpoint',\n",
       " 'bytearray',\n",
       " 'bytes',\n",
       " 'callable',\n",
       " 'chr',\n",
       " 'classmethod',\n",
       " 'compile',\n",
       " 'complex',\n",
       " 'copyright',\n",
       " 'credits',\n",
       " 'delattr',\n",
       " 'dict',\n",
       " 'dir',\n",
       " 'display',\n",
       " 'divmod',\n",
       " 'enumerate',\n",
       " 'eval',\n",
       " 'exec',\n",
       " 'execfile',\n",
       " 'filter',\n",
       " 'float',\n",
       " 'format',\n",
       " 'frozenset',\n",
       " 'get_ipython',\n",
       " 'getattr',\n",
       " 'globals',\n",
       " 'hasattr',\n",
       " 'hash',\n",
       " 'help',\n",
       " 'hex',\n",
       " 'id',\n",
       " 'input',\n",
       " 'int',\n",
       " 'isinstance',\n",
       " 'issubclass',\n",
       " 'iter',\n",
       " 'len',\n",
       " 'license',\n",
       " 'list',\n",
       " 'locals',\n",
       " 'map',\n",
       " 'max',\n",
       " 'memoryview',\n",
       " 'min',\n",
       " 'next',\n",
       " 'object',\n",
       " 'oct',\n",
       " 'open',\n",
       " 'ord',\n",
       " 'pow',\n",
       " 'print',\n",
       " 'property',\n",
       " 'range',\n",
       " 'repr',\n",
       " 'reversed',\n",
       " 'round',\n",
       " 'runfile',\n",
       " 'set',\n",
       " 'setattr',\n",
       " 'slice',\n",
       " 'sorted',\n",
       " 'staticmethod',\n",
       " 'str',\n",
       " 'sum',\n",
       " 'super',\n",
       " 'tuple',\n",
       " 'type',\n",
       " 'vars',\n",
       " 'zip']"
      ]
     },
     "execution_count": 8,
     "metadata": {},
     "output_type": "execute_result"
    }
   ],
   "source": [
    "# Módulo que armazena funcionalidades importadas por padrão para a linguagem python\n",
    "# A função dir retorna os valores dentro de um objeto.\n",
    "dir(__builtins__)"
   ]
  },
  {
   "cell_type": "markdown",
   "id": "76bcc5bf-09d6-40ae-b6df-e77fd7823e9e",
   "metadata": {},
   "source": [
    "## Conversão de tipos"
   ]
  },
  {
   "cell_type": "code",
   "execution_count": 15,
   "id": "795c217a-4a59-4c5e-8ace-de2f49968363",
   "metadata": {},
   "outputs": [
    {
     "name": "stdout",
     "output_type": "stream",
     "text": [
      "Somar: 5\n",
      "Concatenar: 32\n"
     ]
    }
   ],
   "source": [
    "a = 3\n",
    "b = '2'\n",
    "\n",
    "# Converter para int\n",
    "\n",
    "int(b)\n",
    "\n",
    "# Converter para string\n",
    "\n",
    "str(a)\n",
    "\n",
    "# Exemplos:\n",
    "\n",
    "print(\"Somar: {}\".format(a + int(b)))\n",
    "print(\"Concatenar: {}\" .format(str(a) + b))\n"
   ]
  },
  {
   "cell_type": "markdown",
   "id": "00fec878-8b22-40a0-a202-adeee6ca9385",
   "metadata": {},
   "source": [
    "## Decimal"
   ]
  },
  {
   "cell_type": "code",
   "execution_count": 21,
   "id": "4cb71213-17a5-4925-87ce-4b85ebe5405e",
   "metadata": {},
   "outputs": [
    {
     "name": "stdout",
     "output_type": "stream",
     "text": [
      "10.857\n",
      "11\n"
     ]
    }
   ],
   "source": [
    "from decimal import Decimal, getcontext\n",
    "\n",
    "a = 76\n",
    "b = 7\n",
    "\n",
    "getcontext().prec = 5\n",
    "print(Decimal(a) / Decimal(b))\n",
    "\n",
    "getcontext().prec = 2\n",
    "print(Decimal(a) / Decimal(b))"
   ]
  },
  {
   "cell_type": "markdown",
   "id": "0bb57519-ebde-4ec9-8a06-201fa4f04f90",
   "metadata": {},
   "source": [
    "## Strings"
   ]
  },
  {
   "cell_type": "code",
   "execution_count": 38,
   "id": "a14033c5-6f17-4ea3-80b8-c47a41d30b8d",
   "metadata": {},
   "outputs": [
    {
     "name": "stdout",
     "output_type": "stream",
     "text": [
      "Paula\n",
      "Ana\n",
      "87654321\n",
      "1357\n",
      "2468\n",
      "True\n",
      "PYTHON É UMA LINGUAGEM EXCELENTE\n",
      "python é uma linguagem excelente\n",
      "['Python', 'é', 'uma', 'linguagem', 'excelente']\n",
      "32\n"
     ]
    }
   ],
   "source": [
    "palavra = 'Ana Paula'\n",
    "\n",
    "# Selecionar string a partir de certo valor até o final.\n",
    "print(palavra[4:])\n",
    "\n",
    "# Selecionar string a partir de certo valor até o começo (ingora o valor informado).\n",
    "print(palavra[:-6])\n",
    "\n",
    "numeros = '12345678'\n",
    "\n",
    "# Inverter número, ele não exclui o último número porque :: indica que quero o número todo.\n",
    "\n",
    "print(numeros[::-1])\n",
    "\n",
    "# Apresentar número de dois em dois.\n",
    "# ímpares\n",
    "print(numeros[::2])\n",
    "\n",
    "# pares\n",
    "\n",
    "numeros_menos_um = numeros[1:]\n",
    "print(numeros_menos_um[::2])\n",
    "\n",
    "frase = 'Python é uma linguagem excelente'\n",
    "\n",
    "# Verificar se existe palavra na frase (python é case sensitive)\n",
    "\n",
    "print('Python' in frase)\n",
    "\n",
    "# Colocar em caixa alta\n",
    "\n",
    "print(frase.upper())\n",
    "\n",
    "# Colocar em caixa baixa\n",
    "\n",
    "print(frase.lower())\n",
    "\n",
    "# Dividir por separador (cria um array)\n",
    "\n",
    "print(frase.split(\" \"))\n",
    "\n",
    "# Ver tamanho da string\n",
    "\n",
    "print(len(frase))\n",
    "\n",
    "# OBS.: os operadores são abstrações de funções presentes no builtins."
   ]
  },
  {
   "cell_type": "markdown",
   "id": "d38cdcd3-d0c7-4144-b7cc-4b4120696fe9",
   "metadata": {},
   "source": [
    "## Lista"
   ]
  },
  {
   "cell_type": "code",
   "execution_count": 12,
   "id": "22966b54-34d6-4208-846c-affa654df2ed",
   "metadata": {},
   "outputs": [
    {
     "name": "stdout",
     "output_type": "stream",
     "text": [
      "[4, 6, 3, 7, 1, 2]\n",
      "[4, 6, 3, 7, 1]\n",
      "[1, 7, 3, 6, 4]\n",
      "4 4\n",
      "2\n",
      "True\n",
      "[7, 3, 6, 4]\n",
      "[1, 7, 3, 6]\n",
      "[1, 3, 4]\n"
     ]
    }
   ],
   "source": [
    "lista = [4,6,3,7]\n",
    "\n",
    "lista.append(1)\n",
    "lista.append(2)\n",
    "\n",
    "print(lista)\n",
    "\n",
    "# remover elemento da lista\n",
    "\n",
    "lista.remove(2)\n",
    "\n",
    "print(lista)\n",
    "\n",
    "# reverter lista\n",
    "\n",
    "lista.reverse()\n",
    "\n",
    "print(lista)\n",
    "\n",
    "# tamanho da lista\n",
    "\n",
    "len(lista)\n",
    "\n",
    "# OBS.: Em python as listas possuem tipos dinâmicos, portanto podem ser alteradas e podem pussui diferentes tipos de valores.\n",
    "\n",
    "\n",
    "# último elemento da lista\n",
    "\n",
    "print(lista[4], lista[-1])\n",
    "\n",
    "# ver index do elemento\n",
    "\n",
    "print(lista.index(3))\n",
    "\n",
    "# verificar se um elemento existe na lista\n",
    "\n",
    "print(7 in lista)\n",
    "\n",
    "# Pegar intervalos de lista\n",
    "\n",
    "print(lista[1:])\n",
    "print(lista[:-1])\n",
    "print(lista[::2])\n"
   ]
  },
  {
   "cell_type": "markdown",
   "id": "9042d638-de79-45dd-ba98-5142e20c0324",
   "metadata": {},
   "source": [
    "## Tupla"
   ]
  },
  {
   "cell_type": "code",
   "execution_count": 17,
   "id": "822f62e3-10b3-4c93-9535-cdbc7524c0d8",
   "metadata": {},
   "outputs": [
    {
     "name": "stdout",
     "output_type": "stream",
     "text": [
      "2\n",
      "5\n"
     ]
    }
   ],
   "source": [
    "# Semelhante a um array a diferença é ser imutável, ou seja, seus valores uma vez criados não podem ser trocados.\n",
    "\n",
    "# sintaxe\n",
    "\n",
    "tupla = tuple()\n",
    "tupla = ('verde', 'vermelho', 'azul', 'roxo', 'roxo')\n",
    "\n",
    "type(tupla)\n",
    "\n",
    "print(tupla.count('roxo'))\n",
    "\n",
    "print(len(tupla))\n"
   ]
  },
  {
   "cell_type": "markdown",
   "id": "85d66dd6-5e6a-4bc3-af61-11941391a011",
   "metadata": {},
   "source": [
    "## Dicionário"
   ]
  },
  {
   "cell_type": "code",
   "execution_count": 29,
   "id": "480f6c5c-30fd-4097-af99-8d18abb5c9ef",
   "metadata": {},
   "outputs": [
    {
     "name": "stdout",
     "output_type": "stream",
     "text": [
      "Daniel\n",
      "dict_keys(['nome', 'curso', 'idade', 'hobbies'])\n",
      "dict_values(['Daniel', 'Sistemas de Informação', 19, []])\n",
      "dict_items([('nome', 'Daniel'), ('curso', 'Sistemas de Informação'), ('idade', 19), ('hobbies', [])])\n",
      "19\n",
      "{'nome': 'Daniel', 'curso': 'Sistemas de Informação', 'idade': 19, 'hobbies': ['ler']}\n",
      "{'nome': 'Daniel', 'idade': 19, 'hobbies': ['ler']}\n",
      "{'nome': 'Daniel Berg', 'idade': 19, 'hobbies': ['ler']}\n"
     ]
    }
   ],
   "source": [
    "# Estrutura chave e valor\n",
    "\n",
    "dicionario = {'nome': 'Daniel', 'curso': 'Sistemas de Informação', 'idade': 19,'hobbies': []}\n",
    "print(dicionario['nome'])\n",
    "\n",
    "print(dicionario.keys())\n",
    "\n",
    "print(dicionario.values())\n",
    "\n",
    "print(dicionario.items())\n",
    "\n",
    "print(dicionario.get('idade'))\n",
    "\n",
    "dicionario['hobbies'].append('ler')\n",
    "print(dicionario)\n",
    "\n",
    "dicionario.pop('curso')\n",
    "print(dicionario)\n",
    "\n",
    "dicionario.update({'nome': 'Daniel Berg'})\n",
    "print(dicionario)"
   ]
  },
  {
   "cell_type": "markdown",
   "id": "d323d4db-0cca-4665-89d4-bd41fcab1d0a",
   "metadata": {},
   "source": [
    "## Conjunto"
   ]
  },
  {
   "cell_type": "code",
   "execution_count": 40,
   "id": "3fef74e5-5746-4d0c-a0e9-fc5725531837",
   "metadata": {},
   "outputs": [
    {
     "name": "stdout",
     "output_type": "stream",
     "text": [
      "<class 'set'>\n",
      "{'e', 'r', 'c', 'o', 'd'}\n",
      "{2, 3}\n",
      "{1, 2, 3, 4, 5, 6, 7}\n",
      "{1, 2, 3, 4, 5, 6, 7}\n",
      "True\n",
      "False\n",
      "{1, 3, 5, 6, 7}\n"
     ]
    }
   ],
   "source": [
    "# Conjuntos armazenam valores que não podem ser repetidos\n",
    "\n",
    "a = {1,2,3,4,5}\n",
    "print(type(a))\n",
    "\n",
    "b = set('codddddder')\n",
    "print(b)\n",
    "c = {2,6,3,7}\n",
    "\n",
    "# Intersecção entre conjuntos\n",
    "\n",
    "print(a.intersection(c))\n",
    "\n",
    "#  União entre conjuntos\n",
    "\n",
    "print(a.union(c))\n",
    "\n",
    "# Colocar conjunto dentro de outro\n",
    "\n",
    "a.update(c)\n",
    "print(a)\n",
    "\n",
    "# Verificar se um conjunto está contido dentro de outro\n",
    "\n",
    "print(a >= c)\n",
    "print(a <= c)\n",
    "\n",
    "# Remover elemento de dentro do conjunto\n",
    "\n",
    "a -= {2,4}\n",
    "print(a)\n"
   ]
  },
  {
   "cell_type": "markdown",
   "id": "7f42bd54-5e2a-45de-8843-53086cc294e6",
   "metadata": {},
   "source": [
    "## Interpolação"
   ]
  },
  {
   "cell_type": "code",
   "execution_count": 47,
   "id": "e9f5e7f1-5285-4c73-871c-1d368b6a5c11",
   "metadata": {},
   "outputs": [
    {
     "name": "stdout",
     "output_type": "stream",
     "text": [
      "Nome: Ana, Idade: 30\n",
      "Nome: Ana, Idade: 30\n",
      "Nome: Ana, Idade: 30\n",
      "Nome: Ana, Idade: 30\n"
     ]
    }
   ],
   "source": [
    "from string import Template\n",
    "\n",
    "nome, idade = 'Ana', 30\n",
    "\n",
    "\n",
    "print(\"Nome: %s, Idade: %d\" % (nome,idade)) # Versão antiga\n",
    "print(\"Nome: {}, Idade: {}\".format(nome,idade)) # Python < 3.6\n",
    "print(f'Nome: {nome}, Idade: {idade}') # Python >= 3.6\n",
    "\n",
    "s = Template(\"Nome: $nome, Idade: $idade\")\n",
    "print(s.substitute(nome=nome, idade=idade))"
   ]
  },
  {
   "cell_type": "markdown",
   "id": "2d3181eb-0c67-4b8d-a6d4-cad8ac08d894",
   "metadata": {},
   "source": [
    "## While"
   ]
  },
  {
   "cell_type": "code",
   "execution_count": 1,
   "id": "4bca6b16-1f24-4ab5-864a-e29c845ca18f",
   "metadata": {},
   "outputs": [
    {
     "name": "stdout",
     "output_type": "stream",
     "text": [
      "0\n",
      "1\n",
      "2\n",
      "3\n",
      "4\n",
      "5\n",
      "6\n",
      "7\n",
      "8\n",
      "9\n"
     ]
    }
   ],
   "source": [
    "# Repetição indeterminada do bloco a partir de uma condição\n",
    "\n",
    "# Sintaxe:\n",
    "\n",
    "x = 0\n",
    "\n",
    "while x < 10:\n",
    "    print(x)\n",
    "    x +=1"
   ]
  },
  {
   "cell_type": "markdown",
   "id": "1dde2f80-8edc-42af-affa-c0ebd70c8ab6",
   "metadata": {},
   "source": [
    "## For"
   ]
  },
  {
   "cell_type": "code",
   "execution_count": 3,
   "id": "1d31edd6-3c4b-41fe-95b9-0bc77ea12628",
   "metadata": {},
   "outputs": [
    {
     "name": "stdout",
     "output_type": "stream",
     "text": [
      "i: 1\n",
      "i: 2\n",
      "i: 3\n",
      "i: 4\n",
      "i: 5\n",
      "i: 6\n",
      "i: 7\n",
      "i: 8\n",
      "i: 9\n",
      "i: 10\n"
     ]
    }
   ],
   "source": [
    "# Quantidade de repetições predeterminadas\n",
    "\n",
    "# Sintaxe for com range.\n",
    "# OBS.: A última posição do range não está incluída no intervalo.\n",
    "\n",
    "for i in range(1, 11):\n",
    "    print(f'i: {i}')"
   ]
  },
  {
   "cell_type": "code",
   "execution_count": 16,
   "id": "249f40bb-5fe4-44ae-8d2b-6d8fb079c4eb",
   "metadata": {},
   "outputs": [
    {
     "name": "stdout",
     "output_type": "stream",
     "text": [
      "P,n,e,u,m,o,u,l,t,r,a,m,i,c,r,o,s,c,o,p,i,c,o,s,s,i,l,i,c,o,v,u,l,c,a,n,o,c,o,n,i,ó,t,i,c,o,\n",
      "\n",
      "i: 1 i: 2 i: 5 i: 7 i: 2 i: 45 \n",
      "\n",
      "1) Daniel\n",
      "2) Pedro\n",
      "3) Marta\n",
      "\n",
      "\n",
      "Segunda\n",
      "Terça\n",
      "Quarta\n",
      "Quinta\n",
      "Sexta\n",
      "\n",
      "\n",
      "n,r,p,o,m,c,e,d,"
     ]
    }
   ],
   "source": [
    "# Percorrer palavra:\n",
    "palavra = 'Pneumoultramicroscopicossilicovulcanoconiótico'\n",
    "\n",
    "for letra in palavra:\n",
    "    print(letra, end=',')\n",
    "print(\"\\n\")\n",
    "\n",
    "# Percorrer array:\n",
    "\n",
    "vetor = [1,2,5,7,2,45]\n",
    "\n",
    "for i in vetor:\n",
    "    print(f'i: {i}', end=\" \")\n",
    "print(\"\\n\")\n",
    "\n",
    "# Percorrer array informando valor e índice\n",
    "\n",
    "aprovados = ['Daniel', 'Pedro', 'Marta']\n",
    "\n",
    "for indice, nome in enumerate(aprovados):\n",
    "    print(f'{indice + 1}) {nome}')\n",
    "    \n",
    "print(\"\\n\")\n",
    "# Percorrer tupla:\n",
    "\n",
    "dias_semana = ('Segunda', 'Terça', 'Quarta', 'Quinta', 'Sexta')\n",
    "\n",
    "for dia in dias_semana:\n",
    "    print(dia)\n",
    "    \n",
    "print(\"\\n\")\n",
    "\n",
    "# Percorrer conjunto:\n",
    "\n",
    "for letra in set('compreendo'):\n",
    "    print(letra, end=\",\")"
   ]
  },
  {
   "cell_type": "code",
   "execution_count": 24,
   "id": "de959cb5-9926-43d0-bb93-c921d52853f1",
   "metadata": {},
   "outputs": [
    {
     "name": "stdout",
     "output_type": "stream",
     "text": [
      "nome\n",
      "genero\n",
      "disponivel\n",
      "\n",
      "\n",
      "o ladrão de raios\n",
      "aventura\n",
      "True\n",
      "\n",
      "\n",
      "nome = o ladrão de raios\n",
      "genero = aventura\n",
      "disponivel = True\n"
     ]
    }
   ],
   "source": [
    "# Percorrer dicionário:\n",
    "\n",
    "dicionario = {'nome': 'o ladrão de raios',\n",
    "              'genero': 'aventura',\n",
    "              'disponivel': True}\n",
    "\n",
    "# Percorrer chaves:\n",
    "\n",
    "for chave in dicionario:\n",
    "    print(chave)\n",
    "\n",
    "print(\"\\n\")\n",
    "\n",
    "# Percorrer valor:\n",
    "\n",
    "for valor in dicionario.values():\n",
    "    print(valor)\n",
    "\n",
    "print(\"\\n\")\n",
    "    \n",
    "# Percorrer chave e valor:\n",
    "\n",
    "for chave, valor in dicionario.items():\n",
    "    print(f'{chave} = {valor}')"
   ]
  },
  {
   "cell_type": "code",
   "execution_count": 28,
   "id": "897f84d1-f9c2-42d3-9194-eb9e13aa3047",
   "metadata": {},
   "outputs": [
    {
     "name": "stdout",
     "output_type": "stream",
     "text": [
      "1\n",
      "3\n",
      "5\n",
      "7\n",
      "9\n",
      "\n",
      "\n",
      "1\n",
      "2\n",
      "3\n",
      "4\n",
      "5\n",
      "6\n",
      "\n",
      "\n",
      "2\n",
      "4\n",
      "6\n",
      "8\n",
      "10\n",
      "Fim!\n"
     ]
    }
   ],
   "source": [
    "# For mais continue:\n",
    "\n",
    "for i in range(1, 11):\n",
    "    if(i % 2 == 0):\n",
    "        continue\n",
    "    print(i)\n",
    "    \n",
    "print(\"\\n\")\n",
    "\n",
    "# For mais break:\n",
    "\n",
    "for i in range(1, 11):\n",
    "    if(i == 7):\n",
    "        break\n",
    "    print(i)\n",
    "\n",
    "print(\"\\n\")\n",
    "\n",
    "# For mais else:\n",
    "\n",
    "for i in range(1, 11):\n",
    "    if(i % 2 != 0):\n",
    "        continue\n",
    "    print(i)\n",
    "else:\n",
    "    print('Fim!')"
   ]
  },
  {
   "cell_type": "markdown",
   "id": "5c840857-1fa4-425b-af4d-3d4e10bdcb1e",
   "metadata": {},
   "source": [
    "## !Switch"
   ]
  },
  {
   "cell_type": "code",
   "execution_count": 30,
   "id": "7350e1c5-9c21-4d39-87fd-70fb8018313e",
   "metadata": {},
   "outputs": [
    {
     "name": "stdout",
     "output_type": "stream",
     "text": [
      "** Dia inválido **\n",
      "Terça\n"
     ]
    }
   ],
   "source": [
    "def get_dia_semana(dia):\n",
    "    dias_semana = {0: 'Domingo',\n",
    "                   1: 'Segunda',\n",
    "                   2: 'Terça',\n",
    "                   3: 'Quarta',\n",
    "                   4: 'Quinta',\n",
    "                   5: 'Sexta',\n",
    "                   6: 'Sábado'}\n",
    "    return dias_semana.get(dia, \"** Dia inválido **\")\n",
    "\n",
    "print(get_dia_semana(7))\n",
    "print(get_dia_semana(2))"
   ]
  },
  {
   "cell_type": "markdown",
   "id": "9c07800a-b703-4cdf-bf47-d2025cde9dcd",
   "metadata": {},
   "source": [
    "## Switch"
   ]
  },
  {
   "cell_type": "code",
   "execution_count": 32,
   "id": "9375357c-a629-4720-ad4e-cf510b0ba3a1",
   "metadata": {},
   "outputs": [
    {
     "name": "stdout",
     "output_type": "stream",
     "text": [
      "Sexta\n",
      "Dia inválido\n"
     ]
    }
   ],
   "source": [
    "def dia_semana(dia):\n",
    "    match dia:\n",
    "        case 0:\n",
    "            return 'Domingo'\n",
    "        case 1:\n",
    "            return 'Segunda'\n",
    "        case 2:\n",
    "            return 'Terça'\n",
    "        case 3:\n",
    "            return 'Quarta'\n",
    "        case 4:\n",
    "            return 'Quinta'\n",
    "        case 5: \n",
    "            return 'Sexta'\n",
    "        case 6:\n",
    "            return 'Sábado'\n",
    "        case _:\n",
    "            return 'Dia inválido'\n",
    "\n",
    "print(dia_semana(5))\n",
    "print(dia_semana(-1))"
   ]
  },
  {
   "cell_type": "markdown",
   "id": "6533f109-0e89-4a6a-a697-f50231023da6",
   "metadata": {},
   "source": [
    "## List Comprehension"
   ]
  },
  {
   "cell_type": "code",
   "execution_count": 3,
   "id": "0a994f60-d6d3-40a5-a728-b3d1fa594117",
   "metadata": {},
   "outputs": [
    {
     "name": "stdout",
     "output_type": "stream",
     "text": [
      "[0, 4, 8, 12, 16]\n"
     ]
    }
   ],
   "source": [
    "# Cria uma lista com base em um bloco de código\n",
    "\n",
    "dobros = [i * 2 for i in range(10) if i  % 2 == 0]\n",
    "print(dobros)"
   ]
  },
  {
   "cell_type": "markdown",
   "id": "a4765413-592c-4075-a4fe-733099ab9a24",
   "metadata": {},
   "source": [
    "## Generator"
   ]
  },
  {
   "cell_type": "code",
   "execution_count": 7,
   "id": "8884aea1-d300-46ca-8776-ea104ab29675",
   "metadata": {},
   "outputs": [
    {
     "name": "stdout",
     "output_type": "stream",
     "text": [
      "0\n",
      "4\n",
      "16\n",
      "36\n",
      "64\n"
     ]
    }
   ],
   "source": [
    "generator = (i ** 2 for i in range(10) if i  % 2 == 0)\n",
    "print(next(generator))\n",
    "print(next(generator))\n",
    "print(next(generator))\n",
    "\n",
    "for numero in generator:\n",
    "    print(numero)"
   ]
  },
  {
   "cell_type": "markdown",
   "id": "ffc6d630-2693-48e4-ae04-bdd484dbcac3",
   "metadata": {},
   "source": [
    "## Dict Comprehesion"
   ]
  },
  {
   "cell_type": "code",
   "execution_count": 11,
   "id": "b064b68b-0e2d-4003-a2bd-38e88c83d21a",
   "metadata": {},
   "outputs": [
    {
     "name": "stdout",
     "output_type": "stream",
     "text": [
      "Item 1: 1\n",
      "Item 3: 3\n",
      "Item 5: 5\n",
      "Item 7: 7\n",
      "Item 9: 9\n"
     ]
    }
   ],
   "source": [
    "dicionario = {f'Item {i}': i for i in range(10) if i % 2 != 0}\n",
    "\n",
    "for chave, valor in dicionario.items():\n",
    "    print(f'{chave}: {valor}')"
   ]
  },
  {
   "cell_type": "markdown",
   "id": "dc7062d7-8418-44ed-960a-1d164a4ccf38",
   "metadata": {},
   "source": [
    "## Packing & Unpacking"
   ]
  },
  {
   "cell_type": "code",
   "execution_count": 4,
   "id": "c3569b1c-25a9-404b-9694-8408363fa402",
   "metadata": {},
   "outputs": [
    {
     "name": "stdout",
     "output_type": "stream",
     "text": [
      "6\n",
      "55\n"
     ]
    }
   ],
   "source": [
    "def soma_3(a, b, c):\n",
    "    return a + b + c\n",
    "\n",
    "def soma_n(*numeros):\n",
    "    soma = 0\n",
    "    for i in numeros:\n",
    "        soma += i\n",
    "    return soma\n",
    "\n",
    "if __name__ == '__main__':\n",
    "    \n",
    "    # unpacking = Desempacota e envia\n",
    "\n",
    "    print(soma_3(*(1,2,3)))\n",
    "\n",
    "\n",
    "    # packing = Empacota os dados e envia\n",
    "\n",
    "    print(soma_n(1,2,3,4,5,6,7,8,9,10))"
   ]
  },
  {
   "cell_type": "markdown",
   "id": "623339f8-2656-4d01-bd8a-96e93dc245d1",
   "metadata": {},
   "source": [
    "## Packing & Unpacking nomeados"
   ]
  },
  {
   "cell_type": "code",
   "execution_count": 5,
   "id": "28e5b1ce-689c-4e36-9444-0e6145d261e9",
   "metadata": {},
   "outputs": [
    {
     "name": "stdout",
     "output_type": "stream",
     "text": [
      "primeiro -> L. Hamilton\n",
      "segundo -> M. Vestappen\n",
      "terceiro -> S. Vettel\n",
      "\n",
      "\n",
      "1) L. Hamilton\n",
      "2) M. Vestappen\n",
      "3) S. Vettel\n"
     ]
    }
   ],
   "source": [
    "def resultados_packing(**podium):\n",
    "    for posicao, piloto in podium.items():\n",
    "        print(f'{posicao} -> {piloto}')\n",
    "\n",
    "def resultados_unpacking(primeiro, segundo, terceiro):\n",
    "    print(f'1) {primeiro}')\n",
    "    print(f'2) {segundo}')\n",
    "    print(f'3) {terceiro}')\n",
    "\n",
    "# Packing nomeado\n",
    "\n",
    "resultados_packing(primeiro='L. Hamilton', segundo='M. Vestappen', terceiro='S. Vettel')\n",
    "\n",
    "print('\\n')\n",
    "resultados ={'primeiro':'L. Hamilton',\n",
    "             'segundo':'M. Vestappen',\n",
    "             'terceiro':'S. Vettel'}\n",
    "\n",
    "# Unpacking nomeado \n",
    "\n",
    "resultados_unpacking(**resultados)"
   ]
  },
  {
   "cell_type": "markdown",
   "id": "79ba1b86-efd2-42a4-84b0-1ff358ef7f6e",
   "metadata": {},
   "source": [
    "## Callable"
   ]
  },
  {
   "cell_type": "code",
   "execution_count": 3,
   "id": "ff1ee5d2-fbd8-452a-aa8c-bd573de1e804",
   "metadata": {},
   "outputs": [
    {
     "name": "stdout",
     "output_type": "stream",
     "text": [
      "Bom dia\n"
     ]
    }
   ],
   "source": [
    "def executar(funcao):\n",
    "        if callable(funcao):\n",
    "            funcao()\n",
    "    \n",
    "def bom_dia():\n",
    "    print('Bom dia')\n",
    "\n",
    "if __name__ == '__main__':\n",
    "    executar(bom_dia)"
   ]
  },
  {
   "cell_type": "markdown",
   "id": "9413873a-01d6-444d-a366-b883e5c80aac",
   "metadata": {},
   "source": [
    "## Classe"
   ]
  },
  {
   "cell_type": "code",
   "execution_count": 7,
   "id": "f2a1a2b7-ad86-4132-b177-513a57c66cc9",
   "metadata": {},
   "outputs": [
    {
     "name": "stdout",
     "output_type": "stream",
     "text": [
      "3² => 4\n",
      "2³ => 27\n",
      "4 ** 4 => 256\n"
     ]
    }
   ],
   "source": [
    "class Potencia:\n",
    "    def __init__(self, expoente):\n",
    "        self.expoente = expoente\n",
    "\n",
    "    def __call__(self, base):\n",
    "        return base ** self.expoente\n",
    "\n",
    "if __name__ == '__main__':\n",
    "    quadrado = Potencia(2)\n",
    "    cubo = Potencia(3)\n",
    "\n",
    "    print(f'3² => {quadrado(2)}')\n",
    "    print(f'2³ => {cubo(3)}')\n",
    "    print(f'4 ** 4 => {Potencia(4)(4)}')"
   ]
  }
 ],
 "metadata": {
  "kernelspec": {
   "display_name": "Python 3 (ipykernel)",
   "language": "python",
   "name": "python3"
  },
  "language_info": {
   "codemirror_mode": {
    "name": "ipython",
    "version": 3
   },
   "file_extension": ".py",
   "mimetype": "text/x-python",
   "name": "python",
   "nbconvert_exporter": "python",
   "pygments_lexer": "ipython3",
   "version": "3.11.7"
  }
 },
 "nbformat": 4,
 "nbformat_minor": 5
}
